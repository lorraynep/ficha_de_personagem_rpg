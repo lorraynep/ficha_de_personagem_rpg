{
  "nbformat": 4,
  "nbformat_minor": 0,
  "metadata": {
    "colab": {
      "provenance": [],
      "authorship_tag": "ABX9TyNM9h5G1c60FdIRWWr/Ra9T",
      "include_colab_link": true
    },
    "kernelspec": {
      "name": "python3",
      "display_name": "Python 3"
    },
    "language_info": {
      "name": "python"
    }
  },
  "cells": [
    {
      "cell_type": "markdown",
      "metadata": {
        "id": "view-in-github",
        "colab_type": "text"
      },
      "source": [
        "<a href=\"https://colab.research.google.com/github/lorraynep/ficha_de_personagem_rpg/blob/main/Gerador_de_ficha_de_personagem.ipynb\" target=\"_parent\"><img src=\"https://colab.research.google.com/assets/colab-badge.svg\" alt=\"Open In Colab\"/></a>"
      ]
    },
    {
      "cell_type": "markdown",
      "source": [
        "Instalação do GEMINI"
      ],
      "metadata": {
        "id": "lznMv8rgyX-g"
      }
    },
    {
      "cell_type": "code",
      "source": [
        "#Instalando o SDK do Google\n",
        "!pip install -q -U google-generativeai"
      ],
      "metadata": {
        "id": "MgLEmV0VyV25"
      },
      "execution_count": null,
      "outputs": []
    },
    {
      "cell_type": "code",
      "source": [
        "#Configurações iniciais\n",
        "import google.generativeai as genai\n",
        "\n",
        "GOOGLE_API_KEY=\"INSIRA_SUA_API_KEY\"\n",
        "genai.configure(api_key=GOOGLE_API_KEY)"
      ],
      "metadata": {
        "id": "9xZa0v-FysUW"
      },
      "execution_count": null,
      "outputs": []
    },
    {
      "cell_type": "code",
      "source": [
        "# Set up the model\n",
        "generation_config = {\n",
        "  \"temperature\": 1,\n",
        "  \"top_p\": 0.95,\n",
        "  \"top_k\": 0,\n",
        "  \"max_output_tokens\": 8192,\n",
        "}\n"
      ],
      "metadata": {
        "id": "FdnnuPqIyxqb"
      },
      "execution_count": null,
      "outputs": []
    },
    {
      "cell_type": "code",
      "source": [
        "safety_settings = [\n",
        "  {\n",
        "    \"category\": \"HARM_CATEGORY_HARASSMENT\",\n",
        "    \"threshold\": \"BLOCK_MEDIUM_AND_ABOVE\"\n",
        "  },\n",
        "  {\n",
        "    \"category\": \"HARM_CATEGORY_HATE_SPEECH\",\n",
        "    \"threshold\": \"BLOCK_MEDIUM_AND_ABOVE\"\n",
        "  },\n",
        "  {\n",
        "    \"category\": \"HARM_CATEGORY_SEXUALLY_EXPLICIT\",\n",
        "    \"threshold\": \"BLOCK_MEDIUM_AND_ABOVE\"\n",
        "  },\n",
        "  {\n",
        "    \"category\": \"HARM_CATEGORY_DANGEROUS_CONTENT\",\n",
        "    \"threshold\": \"BLOCK_MEDIUM_AND_ABOVE\"\n",
        "  },\n",
        "]"
      ],
      "metadata": {
        "id": "_ZkldkPPy0Gx"
      },
      "execution_count": null,
      "outputs": []
    },
    {
      "cell_type": "markdown",
      "source": [
        "Informações do sistema"
      ],
      "metadata": {
        "id": "WBnK2RYby08Y"
      }
    },
    {
      "cell_type": "code",
      "source": [
        "system_instruction = \"Você vai ser um mestre de jogo RPG onde sempre vai dar duas opções para o usuário escolher o que quer fazer com o personagem. A cada escolha serão geradas mais duas opções, montando assim a historia do personagem. Essa historia deve ser montada em até três perguntas e após isso será gerado uma ficha de personagem com um resumo, os atributos do personagem de acordo com suas escolhas e o que possivelmente acontecerá com ele no futuro. Inicie sempre perguntando o nome do personagem e qual o nível de aventura que ele deseja (fácil, médio ou díficil) e enumere as perguntas\\\"\"\n",
        "\n",
        "model = genai.GenerativeModel(model_name=\"gemini-1.5-pro-latest\",\n",
        "                              generation_config=generation_config,\n",
        "                              system_instruction=system_instruction,\n",
        "                              safety_settings=safety_settings)"
      ],
      "metadata": {
        "id": "HPx26_T0y216"
      },
      "execution_count": null,
      "outputs": []
    },
    {
      "cell_type": "markdown",
      "source": [
        "Abaixo está o gerador de histórias de RPG. Baseado na instrução do sistema acima, ele pergunta qual o nome do usuário e a dificuldade da aventura que o personagem vai viver e, a partir dai, ele vai gerando sempre duas opções de pergunta para montar o perfil do personagem. Ao final ele vai dar uma ficha de personagem com atributos, resumo da história e provável destino do personagem."
      ],
      "metadata": {
        "id": "wzMZIXQMy6fj"
      }
    },
    {
      "cell_type": "code",
      "source": [
        "chat = model.start_chat(history=[])\n",
        "\n",
        "while True:\n",
        "  response = chat.send_message(prompt)\n",
        "  print(response.text)\n",
        "  prompt = input(\"Resposta:\")"
      ],
      "metadata": {
        "id": "w4QeG6uGq4R5"
      },
      "execution_count": null,
      "outputs": []
    }
  ]
}